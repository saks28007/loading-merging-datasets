{
  "nbformat": 4,
  "nbformat_minor": 0,
  "metadata": {
    "colab": {
      "private_outputs": true,
      "provenance": []
    },
    "kernelspec": {
      "name": "python3",
      "display_name": "Python 3"
    },
    "language_info": {
      "name": "python"
    }
  },
  "cells": [
    {
      "cell_type": "code",
      "execution_count": null,
      "metadata": {
        "id": "EPbqZva5AdBJ"
      },
      "outputs": [],
      "source": [
        "#EXP 1: LOADING AND MERGING\n",
        "\n",
        "import pandas as pd\n",
        "\n",
        "df1 = pd.read_csv('/content/drive/MyDrive/winequality-red.csv',delimiter=';')\n",
        "df2 = pd.read_csv('/content/drive/MyDrive/winequality-white.csv',delimiter=';')\n",
        "\n",
        "print(\"Red Wine Data: \")\n",
        "df1['type']='red'\n",
        "print(df1.head())\n",
        "\n",
        "\n",
        "print(\"White Wine Data: \")\n",
        "df2['type']='white'\n",
        "print(df2.head())\n",
        "\n",
        "merged= pd.concat([df1, df2], ignore_index=True)\n",
        "\n",
        "print(\"Combined: \")\n",
        "print(merged.head())\n",
        "\n",
        "merged.to_csv('merged_dataset.csv', index=False)\n"
      ]
    }
  ]
}